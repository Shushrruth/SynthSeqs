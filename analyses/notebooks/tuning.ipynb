{
 "cells": [
  {
   "cell_type": "code",
   "execution_count": 1,
   "metadata": {},
   "outputs": [],
   "source": [
    "import numpy as np\n",
    "from matplotlib import pyplot as plt\n",
    "%matplotlib inline\n",
    "import pandas as pd\n",
    "\n",
    "import sys\n",
    "sys.path.append('../complete_run/')\n",
    "from utils.seq import DHS_COLORS, CANONICAL_ORDER, COMPONENT_CLASS_NAMES"
   ]
  },
  {
   "cell_type": "code",
   "execution_count": 2,
   "metadata": {},
   "outputs": [],
   "source": [
    "def get_component_name(component):\n",
    "    idx = np.where(CANONICAL_ORDER == component + 1)[0][0]\n",
    "    return COMPONENT_CLASS_NAMES[idx]"
   ]
  },
  {
   "cell_type": "code",
   "execution_count": null,
   "metadata": {},
   "outputs": [],
   "source": [
    "TOTAL_SEQS = 100\n",
    "\n",
    "plt.figure(figsize=(20, 15))\n",
    "\n",
    "# for c in CANONICAL_ORDER - 1:\n",
    "for c in list(range(16)):\n",
    "    hits_df = pd.read_csv(f'../tuning/fimo_analysis/{c}/hits.txt', sep='\\t', header=None)\n",
    "    hits_df.columns = ['iter', 'hits']\n",
    "    hits_df.iter = np.array([int(x[:-6]) for x in hits_df.iter])\n",
    "    hits_df = hits_df.sort_values('iter').reset_index(drop=True)\n",
    "    \n",
    "    plt.plot(hits_df.iter, (hits_df.hits / TOTAL_SEQS) * 100, linewidth=6, c=DHS_COLORS[c], label=get_component_name(c))\n",
    "    \n",
    "lgd = plt.legend(loc='center left', bbox_to_anchor=(1, 0.5), fontsize=24)\n",
    "plt.xticks(fontsize=24)\n",
    "plt.yticks(range(0, 64, 8), fontsize=24)\n",
    "plt.xlabel('Tuning iterations', fontsize=30)\n",
    "plt.ylabel('Percent sequences with at least one FIMO \"hit\"', fontsize=30)\n",
    "plt.title('Change in known motif FIMO matches during tuning', fontsize=35)\n",
    "\n",
    "# plt.savefig('../figures/fimo_hits_during_tuning_deep_PB20200612.png', bbox_extra_artists=(lgd,), bbox_inches='tight')\n",
    "\n"
   ]
  },
  {
   "cell_type": "code",
   "execution_count": null,
   "metadata": {},
   "outputs": [],
   "source": []
  },
  {
   "cell_type": "code",
   "execution_count": null,
   "metadata": {},
   "outputs": [],
   "source": []
  },
  {
   "cell_type": "code",
   "execution_count": null,
   "metadata": {},
   "outputs": [],
   "source": []
  },
  {
   "cell_type": "code",
   "execution_count": null,
   "metadata": {},
   "outputs": [],
   "source": [
    "fig, ax = plt.subplots(2, 1, figsize=(20, 35))\n",
    "\n",
    "for component in list(range(16)):\n",
    "    history = {\n",
    "        'loss': np.zeros((100, 10000)),\n",
    "        'softmax': np.zeros((100, 10000)),\n",
    "    }\n",
    "\n",
    "    for i, label in enumerate(['loss', 'softmax']):\n",
    "        for j in range(100):\n",
    "            path = f'../tuning/optimization_analysis/{component}/{label}/{j}.txt'\n",
    "            history[label][j] = np.loadtxt(path)\n",
    "            \n",
    "        values = history[label]\n",
    "        means = np.mean(values, axis=0)\n",
    "        stds = np.std(values, axis=0)\n",
    "        \n",
    "        ax[i].plot(np.arange(10000), means, c=DHS_COLORS[component], label=get_component_name(component))\n",
    "#         ax[i].fill_between(np.arange(10000), means - stds, means + stds, color=DHS_COLORS[component], alpha=0.05)\n",
    "        ax[i].set_xlabel('Tuning iterations', fontsize=24)\n",
    "    \n",
    "        leg = ax[i].legend(loc='center left', bbox_to_anchor=(1, 0.5), fontsize=24)\n",
    "        \n",
    "        for legobj in leg.legendHandles:\n",
    "            legobj.set_linewidth(4.0)\n",
    "        \n",
    "ax[0].set_title('Pre-softmax layer loss over the tuning process', fontsize=30)\n",
    "ax[0].set_ylabel('Pre-softmax layer node value', fontsize=24)\n",
    "ax[1].set_title('Softmax prediction probability over the tuning process', fontsize=30)\n",
    "ax[1].set_ylabel('Softmax layer prediction probability', fontsize=24)\n",
    "\n",
    "plt.savefig('../figures/optimization_analysis_preliminary_PB20200624.png')"
   ]
  },
  {
   "cell_type": "code",
   "execution_count": null,
   "metadata": {},
   "outputs": [],
   "source": []
  },
  {
   "cell_type": "code",
   "execution_count": null,
   "metadata": {},
   "outputs": [],
   "source": []
  },
  {
   "cell_type": "code",
   "execution_count": 5,
   "metadata": {},
   "outputs": [],
   "source": [
    "for i in range(16):\n",
    "    component = i\n",
    "    ITERS = 10000\n",
    "    TOTAL_SEQS = 100\n",
    "\n",
    "    component_name = get_component_name(component).replace('/', '_')\n",
    "\n",
    "    history = {\n",
    "        'loss': np.zeros((TOTAL_SEQS, ITERS)),\n",
    "        'softmax': np.zeros((TOTAL_SEQS, ITERS)),\n",
    "    }\n",
    "\n",
    "    for label in ['loss', 'softmax']:\n",
    "        for j in range(TOTAL_SEQS):\n",
    "            path = f'../tuning/optimization_analysis/{component}/{label}/{j}.txt'\n",
    "            history[label][j] = np.loadtxt(path)\n",
    "\n",
    "    means = np.mean(history['loss'], axis=0)\n",
    "    stds = np.std(history['loss'], axis=0)\n",
    "\n",
    "\n",
    "    hits_df = pd.read_csv(f'../tuning/fimo_analysis/{component}/hits.txt', sep='\\t', header=None)\n",
    "    hits_df.columns = ['iter', 'hits']\n",
    "    hits_df.iter = np.array([int(x[:-6]) for x in hits_df.iter])\n",
    "    hits_df = hits_df.sort_values('iter').reset_index(drop=True)\n",
    "    hits = hits_df.hits\n",
    "    hits_pcts = (hits / TOTAL_SEQS) * 100\n",
    "\n",
    "    real_hits_df = pd.read_csv(f'../figures/fimo_hits_real_data/train/{component}/hits.txt', sep='\\t', header=None)\n",
    "    real_hits = int(real_hits_df[1][0])\n",
    "    real_hits_pct = (real_hits / ITERS) * TOTAL_SEQS\n",
    "\n",
    "    fig, ax1 = plt.subplots(figsize=(20, 15))\n",
    "\n",
    "    ax1.plot(np.arange(ITERS),\n",
    "             means,\n",
    "             c='Gray',\n",
    "             linewidth=5,\n",
    "             linestyle=(0, (1, 10)),\n",
    "             label='tuning loss')\n",
    "\n",
    "    ax1.fill_between(np.arange(ITERS),\n",
    "                     means - stds,\n",
    "                     means + stds,\n",
    "                     color='Gray',\n",
    "                     alpha=0.1)\n",
    "    ax1.tick_params(axis='y', labelcolor='Gray', labelsize=26)\n",
    "    ax1.tick_params(axis='x', labelsize=26)\n",
    "    ax1.set_ylabel('Tuning loss', fontsize=26, color='Gray')\n",
    "    ax1.set_xlabel('Tuning iterations', fontsize=26)\n",
    "    ax1.set_title(f'Sequence loss and FIMO data during tuning ({component_name})', fontsize=35)\n",
    "\n",
    "    ax2 = ax1.twinx()\n",
    "\n",
    "    ax2.plot(np.arange(ITERS),\n",
    "             hits_pcts,\n",
    "             linewidth=6,\n",
    "             c=DHS_COLORS[component],\n",
    "             label='FIMO hits, tuning')\n",
    "\n",
    "    xmin = np.where(hits > real_hits_pct)[0].min()\n",
    "\n",
    "    col = DHS_COLORS[component]\n",
    "    ax2.axhline(real_hits_pct,\n",
    "                xmin=xmin/ITERS,\n",
    "                linewidth=4,\n",
    "                c=col,\n",
    "                linestyle='--',\n",
    "                label='FIMO hits, real data')\n",
    "    ax2.plot(xmin, real_hits_pct, 'ro', markersize=25, c='Black')\n",
    "    y_len = hits_pcts.max() - hits_pcts.min()\n",
    "    ax2.text(xmin + 10, real_hits_pct + (y_len / 20), '(pct training seqs with FIMO hit)', fontsize=30)\n",
    "    ax2.tick_params(axis='y', labelcolor=col, labelsize=26)\n",
    "    ax2.set_ylabel('Percentage of tuning sequences with a FIMO \"hit\"', fontsize=26, color=col)\n",
    "\n",
    "    fig.legend(loc=(0.7, 0.75), fontsize=20)\n",
    "\n",
    "    plt.savefig(f'../figures/convergence_stats_{component_name}_PB20200624.png')\n",
    "    plt.close()"
   ]
  },
  {
   "cell_type": "code",
   "execution_count": null,
   "metadata": {},
   "outputs": [],
   "source": [
    "hits = []\n",
    "for component in range(16):\n",
    "    real_hits_df = pd.read_csv(f'../figures/fimo_hits_real_data/train/{component}/hits.txt', sep='\\t', header=None)\n",
    "    real_hits = int(real_hits_df[1][0])\n",
    "    hits.append(real_hits)"
   ]
  },
  {
   "cell_type": "code",
   "execution_count": null,
   "metadata": {},
   "outputs": [],
   "source": [
    "hits = np.array(hits)"
   ]
  },
  {
   "cell_type": "code",
   "execution_count": null,
   "metadata": {},
   "outputs": [],
   "source": [
    "(hits / 10000) * 100\n"
   ]
  },
  {
   "cell_type": "code",
   "execution_count": null,
   "metadata": {},
   "outputs": [],
   "source": [
    "hits"
   ]
  },
  {
   "cell_type": "code",
   "execution_count": null,
   "metadata": {},
   "outputs": [],
   "source": []
  }
 ],
 "metadata": {
  "kernelspec": {
   "display_name": "Python 3",
   "language": "python",
   "name": "python3"
  },
  "language_info": {
   "codemirror_mode": {
    "name": "ipython",
    "version": 3
   },
   "file_extension": ".py",
   "mimetype": "text/x-python",
   "name": "python",
   "nbconvert_exporter": "python",
   "pygments_lexer": "ipython3",
   "version": "3.6.9"
  }
 },
 "nbformat": 4,
 "nbformat_minor": 4
}
